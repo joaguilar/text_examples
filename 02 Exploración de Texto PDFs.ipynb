{
 "cells": [
  {
   "cell_type": "code",
   "execution_count": null,
   "id": "fc883aeb",
   "metadata": {},
   "outputs": [],
   "source": [
    "import os\n",
    "import pandas as pd\n",
    "import matplotlib.pyplot as plt\n",
    "from wordcloud import WordCloud\n",
    "import nltk\n",
    "from nltk.corpus import stopwords\n",
    "from nltk.tokenize import word_tokenize\n",
    "from collections import Counter\n",
    "import PyPDF2"
   ]
  },
  {
   "cell_type": "markdown",
   "id": "de01b033",
   "metadata": {},
   "source": []
  },
  {
   "cell_type": "code",
   "execution_count": null,
   "id": "61362975",
   "metadata": {},
   "outputs": [],
   "source": [
    "# Descargar recursos de NLTK\n",
    "nltk.download('punkt')\n",
    "nltk.download('stopwords')"
   ]
  },
  {
   "cell_type": "markdown",
   "id": "4ed5b9ca",
   "metadata": {},
   "source": []
  },
  {
   "cell_type": "code",
   "execution_count": null,
   "id": "6f4ddb8f",
   "metadata": {},
   "outputs": [],
   "source": [
    "# Función para extraer texto de un archivo PDF\n",
    "def extract_text_from_pdf(pdf_path):\n",
    "    with open(pdf_path, 'rb') as file:\n",
    "        reader = PyPDF2.PdfReader(file)\n",
    "        text = ''\n",
    "        for page in reader.pages:\n",
    "            text += page.extract_text()\n",
    "    return text\n",
    "\n",
    "# Directorio donde se encuentran los PDFs\n",
    "pdf_directory = 'pdf/'\n",
    "\n",
    "# Leer texto de todos los PDFs en el directorio\n",
    "documents = []\n",
    "for filename in os.listdir(pdf_directory):\n",
    "    if filename.endswith('.pdf'):\n",
    "        pdf_path = os.path.join(pdf_directory, filename)\n",
    "        text = extract_text_from_pdf(pdf_path)\n",
    "        documents.append(text)\n",
    "        \n",
    "# Convertir documentos a un DataFrame\n",
    "df = pd.DataFrame(documents, columns=['text'])"
   ]
  },
  {
   "cell_type": "markdown",
   "id": "63a09526",
   "metadata": {},
   "source": []
  },
  {
   "cell_type": "code",
   "execution_count": null,
   "id": "d180bea4",
   "metadata": {},
   "outputs": [],
   "source": [
    "# Tokenización de palabras\n",
    "df['tokens'] = df['text'].apply(word_tokenize)"
   ]
  },
  {
   "cell_type": "markdown",
   "id": "95682ece",
   "metadata": {},
   "source": []
  },
  {
   "cell_type": "code",
   "execution_count": null,
   "id": "8d436e2a",
   "metadata": {},
   "outputs": [],
   "source": [
    "# Eliminación de stopwords\n",
    "stop_words = set(stopwords.words('english'))\n",
    "df['filtered_tokens'] = df['tokens'].apply(lambda x: [word for word in x if word.lower() not in stop_words])\n"
   ]
  },
  {
   "cell_type": "markdown",
   "id": "661fb598",
   "metadata": {},
   "source": []
  },
  {
   "cell_type": "code",
   "execution_count": null,
   "id": "e3080ecf",
   "metadata": {},
   "outputs": [],
   "source": [
    "# Concatenar todas las palabras de todos los documentos para análisis de frecuencia\n",
    "all_words = [word.lower() for tokens in df['filtered_tokens'] for word in tokens]\n",
    "word_freq = Counter(all_words)"
   ]
  },
  {
   "cell_type": "markdown",
   "id": "dc90e9f6",
   "metadata": {},
   "source": [
    "# Estadísticas Descriptivas"
   ]
  },
  {
   "cell_type": "code",
   "execution_count": null,
   "id": "941075d6",
   "metadata": {},
   "outputs": [],
   "source": [
    "# Frecuencia de palabras\n",
    "print(\"Frecuencia de palabras:\")\n",
    "print(word_freq.most_common(10))"
   ]
  },
  {
   "cell_type": "markdown",
   "id": "909271c9",
   "metadata": {},
   "source": []
  },
  {
   "cell_type": "code",
   "execution_count": null,
   "id": "2534a97f",
   "metadata": {},
   "outputs": [],
   "source": [
    "# Longitud de documentos\n",
    "df['doc_length'] = df['filtered_tokens'].apply(len)\n",
    "print(\"\\nLongitud promedio de documentos:\", df['doc_length'].mean())\n",
    "print(\"Distribución de la cantidad de palabras por documento:\")\n",
    "print(df['doc_length'].describe())"
   ]
  },
  {
   "cell_type": "markdown",
   "id": "c97c49b2",
   "metadata": {},
   "source": []
  },
  {
   "cell_type": "code",
   "execution_count": null,
   "id": "4bb74e8b",
   "metadata": {},
   "outputs": [],
   "source": [
    "# Gráfica de la distribución de la longitud de los documentos\n",
    "plt.figure(figsize=(10, 6))\n",
    "plt.hist(df['doc_length'], bins=10, color='skyblue', edgecolor='black')\n",
    "plt.title('Distribución de la cantidad de palabras por documento')\n",
    "plt.xlabel('Cantidad de palabras')\n",
    "plt.ylabel('Frecuencia')\n",
    "plt.show()"
   ]
  },
  {
   "cell_type": "markdown",
   "id": "15ce24fb",
   "metadata": {},
   "source": []
  },
  {
   "cell_type": "code",
   "execution_count": null,
   "id": "1b7be7d7",
   "metadata": {},
   "outputs": [],
   "source": [
    "# Nube de Palabras\n",
    "wordcloud = WordCloud(width=800, height=400, background_color='white').generate_from_frequencies(word_freq)\n",
    "\n",
    "plt.figure(figsize=(10, 6))\n",
    "plt.imshow(wordcloud, interpolation='bilinear')\n",
    "plt.title('Nube de Palabras')\n",
    "plt.axis('off')\n",
    "plt.show()"
   ]
  },
  {
   "cell_type": "markdown",
   "id": "c0fa6a9a",
   "metadata": {},
   "source": []
  },
  {
   "cell_type": "code",
   "execution_count": null,
   "id": "ce1f1e56",
   "metadata": {},
   "outputs": [],
   "source": [
    "# Distribución de Términos\n",
    "common_words = [word for word, freq in word_freq.most_common(10)]\n",
    "\n",
    "plt.figure(figsize=(10, 6))\n",
    "plt.bar(common_words, [word_freq[word] for word in common_words], color='lightgreen')\n",
    "plt.title('Frecuencia de Palabras Comunes')\n",
    "plt.xlabel('Palabras')\n",
    "plt.ylabel('Frecuencia')\n",
    "plt.xticks(rotation=45)\n",
    "plt.show()"
   ]
  },
  {
   "cell_type": "code",
   "execution_count": null,
   "id": "72200d37",
   "metadata": {},
   "outputs": [],
   "source": []
  },
  {
   "cell_type": "code",
   "execution_count": null,
   "id": "91813d7e",
   "metadata": {},
   "outputs": [],
   "source": []
  },
  {
   "cell_type": "code",
   "execution_count": null,
   "id": "640aef9c",
   "metadata": {},
   "outputs": [],
   "source": []
  }
 ],
 "metadata": {
  "kernelspec": {
   "display_name": "Python (text_examples)",
   "language": "python",
   "name": "text_examples_venv"
  },
  "language_info": {
   "codemirror_mode": {
    "name": "ipython",
    "version": 3
   },
   "file_extension": ".py",
   "mimetype": "text/x-python",
   "name": "python",
   "nbconvert_exporter": "python",
   "pygments_lexer": "ipython3",
   "version": "3.11.9"
  }
 },
 "nbformat": 4,
 "nbformat_minor": 5
}
