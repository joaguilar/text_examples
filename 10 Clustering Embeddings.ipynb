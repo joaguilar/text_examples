{
 "cells": [
  {
   "cell_type": "code",
   "execution_count": null,
   "id": "87ca7053",
   "metadata": {},
   "outputs": [],
   "source": [
    "# Importar las librerías necesarias\n",
    "from sklearn.feature_extraction.text import TfidfVectorizer\n",
    "from sklearn.cluster import KMeans\n",
    "import numpy as np\n",
    "from sentence_transformers import SentenceTransformer\n",
    "import os\n",
    "os.environ[\"PYTORCH_ENABLE_MPS_FALLBACK\"] = \"1\""
   ]
  },
  {
   "cell_type": "markdown",
   "id": "dbcd6a09",
   "metadata": {},
   "source": [
    "## Sentence Transformers: Generación de Embeddings para Oraciones\n",
    "\n",
    "`Sentence Transformers` es una biblioteca de Python que facilita la obtención de embeddings de texto utilizando modelos de transformers preentrenados. Estos modelos están optimizados para generar representaciones vectoriales de texto que capturan significados semánticos complejos.\n",
    "\n",
    "### ¿Cómo Funcionan los Sentence Transformers?\n",
    "\n",
    "Los `Sentence Transformers` se basan en la arquitectura de los modelos de transformers, como BERT o RoBERTa. SLos `Sentence Transformers` están diseñados específicamente para generar embeddings:\n",
    "\n",
    "1. **Eficiencia en la Generación de Embeddings**: Estos modelos están entrenados y optimizados para producir embeddings de alta calidad a partir de oraciones completas en una sola pasada, lo que mejora significativamente la eficiencia en comparación con el enfoque estándar de extraer embeddings de la capa oculta de un modelo BERT para cada token individualmente.\n",
    "\n",
    "2. **Aprendizaje Supervisado**: Los `Sentence Transformers` son entrenados utilizando técnicas de aprendizaje supervisado, donde los modelos aprenden a producir embeddings similares para textos semánticamente similares y embeddings diferentes para textos que difieren en significado. E\n",
    "\n",
    "### Aplicaciones de los Sentence Transformers\n",
    "\n",
    "- **Clustering de Documentos**: Agrupar documentos en categorías basadas en la similitud semántica de su contenido.\n",
    "- **Clasificación de Texto**: Asignar etiquetas a documentos basándose en su contenido, utilizando los embeddings como características de entrada para clasificadores.\n",
    "- **Búsqueda Semántica**: Mejorar los motores de búsqueda permitiendo que las consultas encuentren resultados basados en la similitud del significado en lugar de la coincidencia exacta de palabras.\n",
    "\n"
   ]
  },
  {
   "cell_type": "code",
   "execution_count": null,
   "id": "296b1047",
   "metadata": {},
   "outputs": [],
   "source": [
    "correos = [\n",
    "    \"Dear John, would you like to catch up over the weekend?\",\n",
    "    \"Incredible discounts at your favorite store, don't miss out!\",\n",
    "    \"Reminder: Project meeting is scheduled for Monday at 10 AM.\",\n",
    "    \"Congratulations! You have been selected to receive an exclusive prize.\",\n",
    "    \"Hello Maria, I have attached the report for last quarter in this email.\",\n",
    "    \"Security alert: Your account has been accessed from an unknown location.\",\n",
    "    \"Exclusive invitation to our VIP event, for special members only.\",\n",
    "    \"Re: Your request for leave has been approved.\",\n",
    "    \"Limited time offer: Buy one get one free, only this weekend.\",\n",
    "    \"Personal note: Don't forget to pick up dog food tomorrow.\",\n",
    "    \"Update required: Please update your account information to continue.\",\n",
    "    \"Are you available for a quick call tomorrow about the new project?\",\n",
    "    \"Flash sale: 50% off on all electronics for the next 24 hours only!\",\n",
    "    \"Your package has been shipped and should arrive within 3 business days.\",\n",
    "    \"We missed you at the webinar yesterday, here's a link to the recording.\",\n",
    "    \"This is a confirmation of your doctor's appointment on Wednesday, 3 PM.\",\n",
    "    \"You've won a coupon for 20% off your next purchase with us!\",\n",
    "    \"Could you please send me the holiday schedule? I need to plan ahead.\",\n",
    "    \"Warning: You have used 90% of your data plan. Top up now.\",\n",
    "    \"Your subscription to our newsletter has been confirmed. Thank you!\"\n",
    "]\n",
    "\n"
   ]
  },
  {
   "cell_type": "markdown",
   "id": "029d6aa9",
   "metadata": {},
   "source": [
    "Cargar el modelo de Sentence Transformers"
   ]
  },
  {
   "cell_type": "code",
   "execution_count": null,
   "id": "0203df93",
   "metadata": {},
   "outputs": [],
   "source": [
    "modelo = SentenceTransformer('sentence-transformers/all-MiniLM-L6-v2',device=\"mps\")\n"
   ]
  },
  {
   "cell_type": "markdown",
   "id": "98976b6f",
   "metadata": {},
   "source": [
    "Convertir cada correo en un vector usando el modelo de Sentence Transformers"
   ]
  },
  {
   "cell_type": "code",
   "execution_count": null,
   "id": "5c1b11da",
   "metadata": {},
   "outputs": [],
   "source": [
    "vectores_correos = modelo.encode(correos)"
   ]
  },
  {
   "cell_type": "markdown",
   "id": "23faf017",
   "metadata": {},
   "source": [
    "Configuramos 4 clusters y generamos la predicción basados en los vectores"
   ]
  },
  {
   "cell_type": "code",
   "execution_count": null,
   "id": "231c5537",
   "metadata": {},
   "outputs": [],
   "source": [
    "num_clusters = 4\n",
    "modelo_kmeans = KMeans(n_clusters=num_clusters, random_state=1123345)\n",
    "modelo_kmeans.fit(vectores_correos)\n",
    "\n",
    "clusters = modelo_kmeans.labels_\n"
   ]
  },
  {
   "cell_type": "markdown",
   "id": "99542523",
   "metadata": {},
   "source": [
    "Mostrar los correos y su cluster asignado"
   ]
  },
  {
   "cell_type": "code",
   "execution_count": null,
   "id": "f571bd10",
   "metadata": {},
   "outputs": [],
   "source": [
    "correos_clusters ={}\n",
    "for i, cluster in enumerate(clusters):\n",
    "    if cluster in correos_clusters:\n",
    "        correos_clusters[cluster].append(correos[i])\n",
    "    else:\n",
    "        correos_clusters[cluster] = [correos[i]]\n",
    "\n",
    "for c in correos_clusters:\n",
    "    print(f\"Cluster {c}:\")\n",
    "    for correo in correos_clusters[c]:\n",
    "        print(f\"\\t\\t{correo}\")"
   ]
  },
  {
   "cell_type": "markdown",
   "id": "815ee973",
   "metadata": {},
   "source": []
  },
  {
   "cell_type": "code",
   "execution_count": null,
   "id": "450c5ece",
   "metadata": {},
   "outputs": [],
   "source": []
  }
 ],
 "metadata": {
  "kernelspec": {
   "display_name": "Python (text_examples)",
   "language": "python",
   "name": "text_examples_venv"
  },
  "language_info": {
   "codemirror_mode": {
    "name": "ipython",
    "version": 3
   },
   "file_extension": ".py",
   "mimetype": "text/x-python",
   "name": "python",
   "nbconvert_exporter": "python",
   "pygments_lexer": "ipython3",
   "version": "3.11.9"
  }
 },
 "nbformat": 4,
 "nbformat_minor": 5
}
