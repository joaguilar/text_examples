{
 "cells": [
  {
   "cell_type": "code",
   "execution_count": null,
   "id": "c883b5b7",
   "metadata": {
    "scrolled": true
   },
   "outputs": [],
   "source": [
    "!python -m spacy download en_core_web_sm"
   ]
  },
  {
   "cell_type": "code",
   "execution_count": null,
   "id": "9e8e59bd",
   "metadata": {},
   "outputs": [],
   "source": [
    "import os\n",
    "import pandas as pd\n",
    "import matplotlib.pyplot as plt\n",
    "from wordcloud import WordCloud\n",
    "import nltk\n",
    "from nltk.corpus import stopwords\n",
    "from nltk.tokenize import word_tokenize\n",
    "from nltk.stem import PorterStemmer\n",
    "from nltk.stem import WordNetLemmatizer\n",
    "from collections import Counter\n",
    "import PyPDF2\n",
    "import unidecode\n",
    "import contractions\n",
    "import spacy\n"
   ]
  },
  {
   "cell_type": "markdown",
   "id": "2f01e4a6",
   "metadata": {},
   "source": [
    "Descargar recursos de NLTK"
   ]
  },
  {
   "cell_type": "code",
   "execution_count": null,
   "id": "4e6d43a7",
   "metadata": {},
   "outputs": [],
   "source": [
    "nltk.download('punkt')\n",
    "nltk.download('stopwords')\n",
    "nltk.download('averaged_perceptron_tagger')\n",
    "nltk.download('wordnet')"
   ]
  },
  {
   "cell_type": "markdown",
   "id": "d1eb7f2a",
   "metadata": {},
   "source": [
    "Inicializar spaCy para lematización y POS tagging"
   ]
  },
  {
   "cell_type": "code",
   "execution_count": null,
   "id": "c5d17c57",
   "metadata": {},
   "outputs": [],
   "source": [
    "nlp = spacy.load('en_core_web_sm')"
   ]
  },
  {
   "cell_type": "markdown",
   "id": "19a64a44",
   "metadata": {},
   "source": [
    "Función para extraer texto de un archivo PDF"
   ]
  },
  {
   "cell_type": "code",
   "execution_count": null,
   "id": "b2c0d104",
   "metadata": {},
   "outputs": [],
   "source": [
    "def extract_text_from_pdf(pdf_path):\n",
    "    with open(pdf_path, 'rb') as file:\n",
    "        reader = PyPDF2.PdfReader(file)\n",
    "        text = ''\n",
    "        for page in reader.pages:\n",
    "            text += page.extract_text()\n",
    "    return text"
   ]
  },
  {
   "cell_type": "markdown",
   "id": "196b230b",
   "metadata": {},
   "source": [
    "Función para preprocesar el texto"
   ]
  },
  {
   "cell_type": "code",
   "execution_count": null,
   "id": "8a4ba6db",
   "metadata": {},
   "outputs": [],
   "source": [
    "\n",
    "def preprocess_text(text):\n",
    "    # Expandir contracciones\n",
    "    text = contractions.fix(text)\n",
    "    \n",
    "    # Eliminar diacríticos\n",
    "    text = unidecode.unidecode(text)\n",
    "    \n",
    "    # Tokenización y eliminación de puntuación\n",
    "    tokens = word_tokenize(text)\n",
    "    \n",
    "    # Convertir a minúsculas y eliminar stopwords\n",
    "    stop_words = set(stopwords.words('english'))\n",
    "    tokens = [token.lower() for token in tokens if token.isalpha() and token.lower() not in stop_words]\n",
    "    \n",
    "    # Lematización y stemming\n",
    "    lemmatizer = WordNetLemmatizer()\n",
    "    stemmer = PorterStemmer()\n",
    "    lemmas = [lemmatizer.lemmatize(token) for token in tokens]\n",
    "    stems = [stemmer.stem(token) for token in tokens]\n",
    "    \n",
    "    # Part of Speech Tagging\n",
    "    pos_tags = nltk.pos_tag(tokens)\n",
    "    \n",
    "    return tokens, lemmas, stems, pos_tags"
   ]
  },
  {
   "cell_type": "markdown",
   "id": "6e6b73c1",
   "metadata": {},
   "source": [
    "Leer texto de todos los PDFs en el directorio"
   ]
  },
  {
   "cell_type": "code",
   "execution_count": null,
   "id": "f04ab5cc",
   "metadata": {},
   "outputs": [],
   "source": [
    "pdf_directory = 'pdf/'\n",
    "\n",
    "\n",
    "documents = []\n",
    "for filename in os.listdir(pdf_directory):\n",
    "    if filename.endswith('.pdf'):\n",
    "        pdf_path = os.path.join(pdf_directory, filename)\n",
    "        text = extract_text_from_pdf(pdf_path)\n",
    "        documents.append(preprocess_text(text))"
   ]
  },
  {
   "cell_type": "markdown",
   "id": "e0da7a03",
   "metadata": {},
   "source": [
    "Ejemplo de cómo manejar los resultados"
   ]
  },
  {
   "cell_type": "code",
   "execution_count": null,
   "id": "8527e9a7",
   "metadata": {},
   "outputs": [],
   "source": [
    "for tokens, lemmas, stems, pos_tags in documents:\n",
    "    print(\"Tokens:\", tokens[:2])\n",
    "    print(\"Lemmas:\", lemmas[:2])\n",
    "    print(\"Stems:\", stems[:2])\n",
    "    print(\"POS tags:\", pos_tags[:2])"
   ]
  },
  {
   "cell_type": "markdown",
   "id": "e54d27c1",
   "metadata": {},
   "source": [
    "Convertir documentos a un DataFrame"
   ]
  },
  {
   "cell_type": "code",
   "execution_count": null,
   "id": "a9a765bc",
   "metadata": {},
   "outputs": [],
   "source": [
    "df = pd.DataFrame(documents, columns=['text','A','B','C'])\n"
   ]
  },
  {
   "cell_type": "markdown",
   "id": "97d063bd",
   "metadata": {},
   "source": [
    "Tokenización y Eliminación de stopwords"
   ]
  },
  {
   "cell_type": "code",
   "execution_count": null,
   "id": "19fba5c5",
   "metadata": {},
   "outputs": [],
   "source": [
    "df['tokens'] = df['text']\n",
    "\n",
    "stop_words = set(stopwords.words('english'))\n",
    "df['filtered_tokens'] = df['tokens'].apply(lambda x: [word for word in x if word.lower() not in stop_words])\n",
    "\n"
   ]
  },
  {
   "cell_type": "markdown",
   "id": "8fac6f3e",
   "metadata": {},
   "source": [
    "Concatenar todas las palabras de todos los documentos para análisis de frecuencia"
   ]
  },
  {
   "cell_type": "code",
   "execution_count": null,
   "id": "ca4acd85",
   "metadata": {},
   "outputs": [],
   "source": [
    "all_words = [word.lower() for tokens in df['filtered_tokens'] for word in tokens]\n",
    "word_freq = Counter(all_words)\n"
   ]
  },
  {
   "cell_type": "markdown",
   "id": "a0d92fe5",
   "metadata": {},
   "source": [
    "## Nube de Palabras"
   ]
  },
  {
   "cell_type": "code",
   "execution_count": null,
   "id": "3de3d87d",
   "metadata": {},
   "outputs": [],
   "source": [
    "wordcloud = WordCloud(width=800, height=400, background_color='white').generate_from_frequencies(word_freq)\n",
    "\n",
    "plt.figure(figsize=(10, 6))\n",
    "plt.imshow(wordcloud, interpolation='bilinear')\n",
    "plt.title('Nube de Palabras')\n",
    "plt.axis('off')\n",
    "plt.show()\n",
    "\n"
   ]
  },
  {
   "cell_type": "markdown",
   "id": "d87bcc39",
   "metadata": {},
   "source": [
    "## Distribución de Términos"
   ]
  },
  {
   "cell_type": "code",
   "execution_count": null,
   "id": "9dea1b1f",
   "metadata": {},
   "outputs": [],
   "source": [
    "common_words = [word for word, freq in word_freq.most_common(10)]\n",
    "\n",
    "plt.figure(figsize=(10, 6))\n",
    "plt.bar(common_words, [word_freq[word] for word in common_words], color='lightgreen')\n",
    "plt.title('Frecuencia de Palabras Comunes')\n",
    "plt.xlabel('Palabras')\n",
    "plt.ylabel('Frecuencia')\n",
    "plt.xticks(rotation=45)\n",
    "plt.show()"
   ]
  },
  {
   "cell_type": "code",
   "execution_count": null,
   "id": "e01df90a",
   "metadata": {},
   "outputs": [],
   "source": []
  },
  {
   "cell_type": "code",
   "execution_count": null,
   "id": "e26de309",
   "metadata": {},
   "outputs": [],
   "source": []
  }
 ],
 "metadata": {
  "kernelspec": {
   "display_name": "Python (text_examples)",
   "language": "python",
   "name": "text_examples_venv"
  },
  "language_info": {
   "codemirror_mode": {
    "name": "ipython",
    "version": 3
   },
   "file_extension": ".py",
   "mimetype": "text/x-python",
   "name": "python",
   "nbconvert_exporter": "python",
   "pygments_lexer": "ipython3",
   "version": "3.11.9"
  }
 },
 "nbformat": 4,
 "nbformat_minor": 5
}
