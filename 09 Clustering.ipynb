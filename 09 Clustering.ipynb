{
 "cells": [
  {
   "cell_type": "code",
   "execution_count": null,
   "id": "9b764dbe",
   "metadata": {},
   "outputs": [],
   "source": [
    "# Importar las librerías necesarias\n",
    "from sklearn.feature_extraction.text import TfidfVectorizer\n",
    "from sklearn.cluster import KMeans\n",
    "import numpy as np\n",
    "\n"
   ]
  },
  {
   "cell_type": "markdown",
   "id": "46dd1b85",
   "metadata": {},
   "source": [
    "# Clustering utilizando TF-IDF y Kmeans\n",
    "\n",
    "\n",
    "TF-IDF es un algortimo que viene del modelo vectorial de recuperación de información para reflejar *la importancia de una palabra en un documento en relación con una colección de documentos*.\n",
    "\n",
    "### Componentes de TF-IDF:\n",
    "\n",
    "- **TF (Term Frequency)**: Mide la frecuencia de una palabra en un documento particular. TF se calcula dividiendo el número de veces que la palabra aparece en el documento por el total de palabras en ese documento. Esto normaliza la frecuencia de la palabra, permitiendo que sea comparada entre documentos de diferentes longitudes.\n",
    "\n",
    "- **IDF (Inverse Document Frequency)**: Mide la importancia de la palabra en el conjunto completo de documentos (o corpus). El IDF de una palabra se calcula tomando el logaritmo de la fracción del total de documentos en el corpus dividido por el número de documentos que contienen la palabra. \n",
    "\n",
    "### Cálculo de TF-IDF:\n",
    "\n",
    "El TF-IDF de una palabra en un documento se calcula como el producto de su TF y su IDF:\n",
    "\n",
    "$$\n",
    "\\text{TF-IDF}(t, d) = \\text{TF}(t, d) \\times \\text{IDF}(t)\n",
    "$$\n",
    "\n",
    "donde \\( t \\) representa la palabra, y \\( d \\) representa el documento.\n",
    "\n",
    "### Uso de TF-IDF:\n",
    "\n",
    "La transformación TF-IDF convierte los textos a un formato numérico adecuado para el procesamiento por modelos de machine learning, resaltando las palabras que son más descriptivas en un documento dado. Este método es particularmente útil para filtrar 'ruido', es decir, palabras comunes que no agregan mucho significado al contenido del documento.\n",
    "\n",
    "En la aplicación de clustering, por ejemplo, TF-IDF puede ayudar a agrupar documentos en categorías basadas en sus temas dominantes, ya que los documentos que comparten palabras importantes similares serán agrupados juntos.\n"
   ]
  },
  {
   "cell_type": "code",
   "execution_count": null,
   "id": "27442c18",
   "metadata": {},
   "outputs": [],
   "source": [
    "correos = [\n",
    "    \"Dear John, would you like to catch up over the weekend?\",\n",
    "    \"Incredible discounts at your favorite store, don't miss out!\",\n",
    "    \"Reminder: Project meeting is scheduled for Monday at 10 AM.\",\n",
    "    \"Congratulations! You have been selected to receive an exclusive prize.\",\n",
    "    \"Hello Maria, I have attached the report for last quarter in this email.\",\n",
    "    \"Security alert: Your account has been accessed from an unknown location.\",\n",
    "    \"Exclusive invitation to our VIP event, for special members only.\",\n",
    "    \"Re: Your request for leave has been approved.\",\n",
    "    \"Limited time offer: Buy one get one free, only this weekend.\",\n",
    "    \"Personal note: Don't forget to pick up dog food tomorrow.\",\n",
    "    \"Update required: Please update your account information to continue.\",\n",
    "    \"Are you available for a quick call tomorrow about the new project?\",\n",
    "    \"Flash sale: 50% off on all electronics for the next 24 hours only!\",\n",
    "    \"Your package has been shipped and should arrive within 3 business days.\",\n",
    "    \"We missed you at the webinar yesterday, here's a link to the recording.\",\n",
    "    \"This is a confirmation of your doctor's appointment on Wednesday, 3 PM.\",\n",
    "    \"You've won a coupon for 20% off your next purchase with us!\",\n",
    "    \"Could you please send me the holiday schedule? I need to plan ahead.\",\n",
    "    \"Warning: You have used 90% of your data plan. Top up now.\",\n",
    "    \"Your subscription to our newsletter has been confirmed. Thank you!\"\n",
    "]\n",
    "\n"
   ]
  },
  {
   "cell_type": "markdown",
   "id": "a614f8e4",
   "metadata": {},
   "source": [
    "Crear un vectorizador TF-IDF para transformar los textos en una matriz de características TF-IDF"
   ]
  },
  {
   "cell_type": "code",
   "execution_count": null,
   "id": "0e951ab8",
   "metadata": {},
   "outputs": [],
   "source": [
    "\n",
    "vectorizador = TfidfVectorizer(stop_words='english')\n",
    "X = vectorizador.fit_transform(correos)\n",
    "\n",
    "print(X)"
   ]
  },
  {
   "cell_type": "markdown",
   "id": "7573af74",
   "metadata": {},
   "source": [
    "Configuramos 4 clusters y generamos la predicción basados en los vectores"
   ]
  },
  {
   "cell_type": "code",
   "execution_count": null,
   "id": "a0201b0a",
   "metadata": {},
   "outputs": [],
   "source": [
    "num_clusters = 4\n",
    "modelo_kmeans = KMeans(n_clusters=num_clusters, random_state=1123345)\n",
    "modelo_kmeans.fit(X)\n",
    "\n",
    "clusters = modelo_kmeans.labels_\n"
   ]
  },
  {
   "cell_type": "markdown",
   "id": "3a0d07b4",
   "metadata": {},
   "source": [
    "Mostrar los correos y su cluster asignado"
   ]
  },
  {
   "cell_type": "code",
   "execution_count": null,
   "id": "4a8152f5",
   "metadata": {},
   "outputs": [],
   "source": [
    "correos_clusters ={}\n",
    "for i, cluster in enumerate(clusters):\n",
    "    if cluster in correos_clusters:\n",
    "        correos_clusters[cluster].append(correos[i])\n",
    "    else:\n",
    "        correos_clusters[cluster] = [correos[i]]\n",
    "#     print(f\"Correo: '{correos[i]}'\\nCluster: {cluster}\\n\")\n",
    "\n",
    "for c in correos_clusters:\n",
    "    print(f\"Cluster {c}:\")\n",
    "    for correo in correos_clusters[c]:\n",
    "        print(f\"\\t\\t{correo}\")"
   ]
  },
  {
   "cell_type": "markdown",
   "id": "34b6bde8",
   "metadata": {},
   "source": [
    "Extraer los términos mas importantes de cada cluster. Para esto utilizamos el peso que tienen según TF-IDF"
   ]
  },
  {
   "cell_type": "code",
   "execution_count": null,
   "id": "48761da3",
   "metadata": {},
   "outputs": [],
   "source": [
    "# Explorar los términos más importantes en cada cluster\n",
    "print(\"Términos más importantes por cluster:\")\n",
    "orden_centroides = modelo_kmeans.cluster_centers_.argsort()[:, ::-1]\n",
    "terminos = vectorizador.get_feature_names_out()\n",
    "for i in range(num_clusters):\n",
    "    print(f\"Cluster {i}: \", end='')\n",
    "    for ind in orden_centroides[i, :10]:  # Mostrar los 10 términos más importantes\n",
    "        print(f'{terminos[ind]} ', end='')\n",
    "    print(\"\\n\")"
   ]
  }
 ],
 "metadata": {
  "kernelspec": {
   "display_name": "Python (text_examples)",
   "language": "python",
   "name": "text_examples_venv"
  },
  "language_info": {
   "codemirror_mode": {
    "name": "ipython",
    "version": 3
   },
   "file_extension": ".py",
   "mimetype": "text/x-python",
   "name": "python",
   "nbconvert_exporter": "python",
   "pygments_lexer": "ipython3",
   "version": "3.11.9"
  }
 },
 "nbformat": 4,
 "nbformat_minor": 5
}
