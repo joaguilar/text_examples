{
 "cells": [
  {
   "cell_type": "code",
   "execution_count": null,
   "id": "d64f26df",
   "metadata": {},
   "outputs": [],
   "source": [
    "import sys\n",
    "print(sys.executable)\n"
   ]
  },
  {
   "cell_type": "code",
   "execution_count": null,
   "id": "fc883aeb",
   "metadata": {},
   "outputs": [],
   "source": [
    "import pandas as pd\n",
    "import matplotlib.pyplot as plt\n",
    "from wordcloud import WordCloud\n",
    "import nltk\n",
    "from nltk.corpus import stopwords\n",
    "from nltk.tokenize import word_tokenize\n",
    "from collections import Counter\n"
   ]
  },
  {
   "cell_type": "markdown",
   "id": "de01b033",
   "metadata": {},
   "source": []
  },
  {
   "cell_type": "code",
   "execution_count": null,
   "id": "61362975",
   "metadata": {},
   "outputs": [],
   "source": [
    "# Descargar recursos de NLTK\n",
    "nltk.download('punkt')\n",
    "nltk.download('stopwords')"
   ]
  },
  {
   "cell_type": "markdown",
   "id": "4ed5b9ca",
   "metadata": {},
   "source": []
  },
  {
   "cell_type": "code",
   "execution_count": null,
   "id": "6f4ddb8f",
   "metadata": {},
   "outputs": [],
   "source": [
    "documents = [\n",
    "    \"Big data analytics involves large-scale data processing.\",\n",
    "    \"Machine learning can provide insights into big data.\",\n",
    "    \"Text analytics includes analyzing and visualizing text data.\",\n",
    "    \"Data processing and analytics are key components of big data.\",\n",
    "    \"Understanding big data requires knowledge of data analytics.\",\n",
    "    \"Visualization is important for interpreting big data results.\",\n",
    "]\n",
    "\n",
    "# Convertir documentos a un DataFrame\n",
    "df = pd.DataFrame(documents, columns=['text'])"
   ]
  },
  {
   "cell_type": "markdown",
   "id": "63a09526",
   "metadata": {},
   "source": []
  },
  {
   "cell_type": "code",
   "execution_count": null,
   "id": "d180bea4",
   "metadata": {},
   "outputs": [],
   "source": [
    "\n",
    "\n",
    "# Tokenización de palabras\n",
    "df['tokens'] = df['text'].apply(word_tokenize)"
   ]
  },
  {
   "cell_type": "markdown",
   "id": "2ba92735",
   "metadata": {},
   "source": []
  },
  {
   "cell_type": "code",
   "execution_count": null,
   "id": "1cd1dc7e",
   "metadata": {},
   "outputs": [],
   "source": [
    "# Eliminación de stopwords\n",
    "stop_words = set(stopwords.words('english'))\n",
    "df['filtered_tokens'] = df['tokens'].apply(lambda x: [word for word in x if word.lower() not in stop_words])\n"
   ]
  },
  {
   "cell_type": "markdown",
   "id": "661fb598",
   "metadata": {},
   "source": []
  },
  {
   "cell_type": "code",
   "execution_count": null,
   "id": "e3080ecf",
   "metadata": {},
   "outputs": [],
   "source": [
    "# Concatenar todas las palabras de todos los documentos para análisis de frecuencia\n",
    "all_words = [word.lower() for tokens in df['filtered_tokens'] for word in tokens]\n",
    "word_freq = Counter(all_words)"
   ]
  },
  {
   "cell_type": "markdown",
   "id": "dc90e9f6",
   "metadata": {},
   "source": [
    "# Estadísticas Descriptivas"
   ]
  },
  {
   "cell_type": "code",
   "execution_count": null,
   "id": "941075d6",
   "metadata": {},
   "outputs": [],
   "source": [
    "# Frecuencia de palabras\n",
    "print(\"Frecuencia de palabras:\")\n",
    "print(word_freq.most_common(10))"
   ]
  },
  {
   "cell_type": "markdown",
   "id": "909271c9",
   "metadata": {},
   "source": []
  },
  {
   "cell_type": "code",
   "execution_count": null,
   "id": "2534a97f",
   "metadata": {},
   "outputs": [],
   "source": [
    "# Longitud de documentos\n",
    "df['doc_length'] = df['filtered_tokens'].apply(len)\n",
    "print(\"\\nLongitud promedio de documentos:\", df['doc_length'].mean())\n",
    "print(\"Distribución de la cantidad de palabras por documento:\")\n",
    "print(df['doc_length'].describe())"
   ]
  },
  {
   "cell_type": "markdown",
   "id": "c97c49b2",
   "metadata": {},
   "source": []
  },
  {
   "cell_type": "code",
   "execution_count": null,
   "id": "4bb74e8b",
   "metadata": {},
   "outputs": [],
   "source": [
    "# Gráfica de la distribución de la longitud de los documentos\n",
    "plt.figure(figsize=(10, 6))\n",
    "plt.hist(df['doc_length'], bins=10, color='skyblue', edgecolor='black')\n",
    "plt.title('Distribución de la cantidad de palabras por documento')\n",
    "plt.xlabel('Cantidad de palabras')\n",
    "plt.ylabel('Frecuencia')\n",
    "plt.show()"
   ]
  },
  {
   "cell_type": "markdown",
   "id": "15ce24fb",
   "metadata": {},
   "source": []
  },
  {
   "cell_type": "code",
   "execution_count": null,
   "id": "1b7be7d7",
   "metadata": {},
   "outputs": [],
   "source": [
    "# Nube de Palabras\n",
    "wordcloud = WordCloud(width=800, height=400, background_color='white').generate_from_frequencies(word_freq)\n",
    "\n",
    "plt.figure(figsize=(10, 6))\n",
    "plt.imshow(wordcloud, interpolation='bilinear')\n",
    "plt.title('Nube de Palabras')\n",
    "plt.axis('off')\n",
    "plt.show()"
   ]
  },
  {
   "cell_type": "markdown",
   "id": "c0fa6a9a",
   "metadata": {},
   "source": []
  },
  {
   "cell_type": "code",
   "execution_count": null,
   "id": "ce1f1e56",
   "metadata": {},
   "outputs": [],
   "source": [
    "# Distribución de Términos\n",
    "common_words = [word for word, freq in word_freq.most_common(10)]\n",
    "\n",
    "plt.figure(figsize=(10, 6))\n",
    "plt.bar(common_words, [word_freq[word] for word in common_words], color='lightgreen')\n",
    "plt.title('Frecuencia de Palabras Comunes')\n",
    "plt.xlabel('Palabras')\n",
    "plt.ylabel('Frecuencia')\n",
    "plt.xticks(rotation=45)\n",
    "plt.show()"
   ]
  },
  {
   "cell_type": "code",
   "execution_count": null,
   "id": "72200d37",
   "metadata": {},
   "outputs": [],
   "source": []
  },
  {
   "cell_type": "code",
   "execution_count": null,
   "id": "91813d7e",
   "metadata": {},
   "outputs": [],
   "source": []
  },
  {
   "cell_type": "code",
   "execution_count": null,
   "id": "640aef9c",
   "metadata": {},
   "outputs": [],
   "source": []
  }
 ],
 "metadata": {
  "kernelspec": {
   "display_name": "Python (text_examples)",
   "language": "python",
   "name": "text_examples_venv"
  },
  "language_info": {
   "codemirror_mode": {
    "name": "ipython",
    "version": 3
   },
   "file_extension": ".py",
   "mimetype": "text/x-python",
   "name": "python",
   "nbconvert_exporter": "python",
   "pygments_lexer": "ipython3",
   "version": "3.11.9"
  }
 },
 "nbformat": 4,
 "nbformat_minor": 5
}
