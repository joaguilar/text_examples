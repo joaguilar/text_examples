{
 "cells": [
  {
   "cell_type": "markdown",
   "id": "d5cbeca0",
   "metadata": {},
   "source": [
    "# Ejemplo de indice de Elasticsearch"
   ]
  },
  {
   "cell_type": "markdown",
   "id": "93d01ca9",
   "metadata": {},
   "source": [
    "Indice generado:\n",
    "\n",
    "```\n",
    "PUT /mi_indice\n",
    "{\n",
    "  \"settings\": {\n",
    "    \"analysis\": {\n",
    "      \"filter\": {\n",
    "        \"my_stemmer\": {\n",
    "          \"type\": \"stemmer\",\n",
    "          \"name\": \"porter\"\n",
    "        },\n",
    "        \"my_synonym_filter\": {\n",
    "          \"type\": \"synonym\",\n",
    "          \"synonyms\": [\n",
    "            \"quick,fast\",\n",
    "            \"jumps,leaps\"\n",
    "          ]\n",
    "        },\n",
    "        \"my_possessive_filter\": {\n",
    "          \"type\": \"apostrophe\"\n",
    "        }\n",
    "      },\n",
    "      \"analyzer\": {\n",
    "        \"custom_analyzer\": {\n",
    "          \"tokenizer\": \"standard\",\n",
    "          \"filter\": [\n",
    "            \"lowercase\",\n",
    "            \"asciifolding\",\n",
    "            \"word_delimiter_graph\",\n",
    "            \"stop\",\n",
    "            \"my_stemmer\",\n",
    "            \"my_synonym_filter\",\n",
    "            \"my_possessive_filter\"\n",
    "          ]\n",
    "        }\n",
    "      }\n",
    "    }\n",
    "  },\n",
    "  \"mappings\": {\n",
    "    \"properties\": {\n",
    "      \"texto\": {\n",
    "        \"type\": \"text\",\n",
    "        \"analyzer\": \"custom_analyzer\"\n",
    "      }\n",
    "    }\n",
    "  }\n",
    "}\n",
    "```"
   ]
  },
  {
   "cell_type": "markdown",
   "id": "2f670b8b",
   "metadata": {},
   "source": [
    "# Ejecución del analyzer:\n",
    "\n",
    "```\n",
    "POST /mi_indice/_analyze\n",
    "{\n",
    "  \"field\": \"texto\",\n",
    "  \"text\": \"The quick brown fox jumps over the lazy dog's back. It's amazing!\"\n",
    "}\n",
    "```"
   ]
  },
  {
   "cell_type": "markdown",
   "id": "0575e069",
   "metadata": {},
   "source": [
    "# Resultado del analyzer\n",
    "\n",
    "```\n",
    "{\"tokens\":[\n",
    "    {\"token\":\"quick\",\"start_offset\":4,\"end_offset\":9,\"type\":\"<ALPHANUM>\",\"position\":1},\n",
    "    {\"token\":\"fast\",\"start_offset\":4,\"end_offset\":9,\"type\":\"SYNONYM\",\"position\":1},\n",
    "    {\"token\":\"brown\",\"start_offset\":10,\"end_offset\":15,\"type\":\"<ALPHANUM>\",\"position\":2},\n",
    "    {\"token\":\"fox\",\"start_offset\":16,\"end_offset\":19,\"type\":\"<ALPHANUM>\",\"position\":3},\n",
    "    {\"token\":\"jump\",\"start_offset\":20,\"end_offset\":25,\"type\":\"<ALPHANUM>\",\"position\":4},\n",
    "    {\"token\":\"leap\",\"start_offset\":20,\"end_offset\":25,\"type\":\"SYNONYM\",\"position\":4},\n",
    "    {\"token\":\"over\",\"start_offset\":26,\"end_offset\":30,\"type\":\"<ALPHANUM>\",\"position\":5},\n",
    "    {\"token\":\"lazi\",\"start_offset\":35,\"end_offset\":39,\"type\":\"<ALPHANUM>\",\"position\":7},\n",
    "    {\"token\":\"dog\",\"start_offset\":40,\"end_offset\":45,\"type\":\"<ALPHANUM>\",\"position\":8},\n",
    "    {\"token\":\"back\",\"start_offset\":46,\"end_offset\":50,\"type\":\"<ALPHANUM>\",\"position\":9},\n",
    "    {\"token\":\"it\",\"start_offset\":52,\"end_offset\":56,\"type\":\"<ALPHANUM>\",\"position\":10},\n",
    "    {\"token\":\"amaz\",\"start_offset\":57,\"end_offset\":64,\"type\":\"<ALPHANUM>\",\"position\":11}\n",
    "    ]\n",
    "}\n",
    "\n",
    "```"
   ]
  }
 ],
 "metadata": {
  "kernelspec": {
   "display_name": "Python 3 (ipykernel)",
   "language": "python",
   "name": "python3"
  },
  "language_info": {
   "codemirror_mode": {
    "name": "ipython",
    "version": 3
   },
   "file_extension": ".py",
   "mimetype": "text/x-python",
   "name": "python",
   "nbconvert_exporter": "python",
   "pygments_lexer": "ipython3",
   "version": "3.9.17"
  }
 },
 "nbformat": 4,
 "nbformat_minor": 5
}
