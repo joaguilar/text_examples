{
 "cells": [
  {
   "cell_type": "markdown",
   "id": "d5cbeca0",
   "metadata": {},
   "source": [
    "# Ejemplo de indice de Elasticsearch"
   ]
  },
  {
   "attachments": {},
   "cell_type": "markdown",
   "id": "93d01ca9",
   "metadata": {},
   "source": [
    "Indice generado:\n",
    "\n",
    "```\n",
    "PUT /mi_indice\n",
    "{\n",
    "  \"settings\": {\n",
    "    \"analysis\": {\n",
    "      \"filter\": {\n",
    "        \"my_stemmer\": {\n",
    "          \"type\": \"stemmer\",\n",
    "          \"name\": \"porter\"\n",
    "        },\n",
    "        \"my_synonym_filter\": {\n",
    "          \"type\": \"synonym\",\n",
    "          \"synonyms\": [\n",
    "            \"quick,fast\",\n",
    "            \"jumps,leaps\"\n",
    "          ]\n",
    "        },\n",
    "        \"my_possessive_filter\": {\n",
    "          \"type\": \"apostrophe\"\n",
    "        }\n",
    "      },\n",
    "      \"analyzer\": {\n",
    "        \"custom_analyzer\": {\n",
    "          \"tokenizer\": \"standard\",\n",
    "          \"filter\": [\n",
    "            \"lowercase\",\n",
    "            \"asciifolding\",\n",
    "            \"word_delimiter_graph\",\n",
    "            \"stop\",\n",
    "            \"my_stemmer\",\n",
    "            \"my_synonym_filter\",\n",
    "            \"my_possessive_filter\"\n",
    "          ]\n",
    "        }\n",
    "      }\n",
    "    }\n",
    "  },\n",
    "  \"mappings\": {\n",
    "    \"properties\": {\n",
    "      \"texto\": {\n",
    "        \"type\": \"text\",\n",
    "        \"analyzer\": \"custom_analyzer\"\n",
    "      }\n",
    "    }\n",
    "  }\n",
    "}\n",
    "```"
   ]
  },
  {
   "cell_type": "markdown",
   "id": "2f670b8b",
   "metadata": {},
   "source": [
    "# Ejecución del analyzer:\n",
    "\n",
    "```\n",
    "POST /mi_indice/_analyze\n",
    "{\n",
    "  \"field\": \"texto\",\n",
    "  \"text\": \"The quick brown fox jumps over the lazy dog's back. It's amazing!\"\n",
    "}\n",
    "```"
   ]
  },
  {
   "cell_type": "markdown",
   "id": "0575e069",
   "metadata": {},
   "source": [
    "# Resultado del analyzer\n",
    "\n",
    "```\n",
    "RESULTADO VA AQUI\n",
    "```"
   ]
  },
  {
   "cell_type": "code",
   "execution_count": null,
   "id": "77342e5f",
   "metadata": {},
   "outputs": [],
   "source": []
  },
  {
   "cell_type": "code",
   "execution_count": null,
   "id": "f768435d",
   "metadata": {},
   "outputs": [],
   "source": []
  },
  {
   "cell_type": "code",
   "execution_count": null,
   "id": "8f9f7ceb",
   "metadata": {},
   "outputs": [],
   "source": []
  },
  {
   "cell_type": "code",
   "execution_count": null,
   "id": "a917bcf3",
   "metadata": {},
   "outputs": [],
   "source": []
  },
  {
   "cell_type": "code",
   "execution_count": null,
   "id": "08bde96b",
   "metadata": {},
   "outputs": [],
   "source": []
  },
  {
   "cell_type": "code",
   "execution_count": null,
   "id": "d17b7d98",
   "metadata": {},
   "outputs": [],
   "source": []
  },
  {
   "cell_type": "code",
   "execution_count": null,
   "id": "fc769b2a",
   "metadata": {},
   "outputs": [],
   "source": []
  },
  {
   "cell_type": "code",
   "execution_count": null,
   "id": "94b8fdbb",
   "metadata": {},
   "outputs": [],
   "source": []
  }
 ],
 "metadata": {
  "kernelspec": {
   "display_name": "Python 3 (ipykernel)",
   "language": "python",
   "name": "python3"
  },
  "language_info": {
   "codemirror_mode": {
    "name": "ipython",
    "version": 3
   },
   "file_extension": ".py",
   "mimetype": "text/x-python",
   "name": "python",
   "nbconvert_exporter": "python",
   "pygments_lexer": "ipython3",
   "version": "3.9.17"
  }
 },
 "nbformat": 4,
 "nbformat_minor": 5
}
