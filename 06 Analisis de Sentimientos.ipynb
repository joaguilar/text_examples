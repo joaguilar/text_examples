{
 "cells": [
  {
   "cell_type": "code",
   "execution_count": null,
   "id": "c46ddb33",
   "metadata": {},
   "outputs": [],
   "source": [
    "import pandas as pd\n",
    "from textblob import TextBlob\n",
    "from transformers import pipeline\n",
    "import os\n",
    "os.environ[\"PYTORCH_ENABLE_MPS_FALLBACK\"] = \"1\""
   ]
  },
  {
   "cell_type": "markdown",
   "id": "10a555f1",
   "metadata": {},
   "source": [
    "# Ejemplo usando textblob\n",
    "\n",
    "TextBlob es una biblioteca de Python para tareas de NLP: [TextBlob](https://textblob.readthedocs.io/en/dev/quickstart.html)\n",
    "\n",
    "Contiene metodos para realizar analisis de sentimiento en ingles, de la documentación:\n",
    "\n",
    ">Sentiment Analysis\n",
    "\n",
    ">The sentiment property returns a namedtuple of the form Sentiment(polarity, subjectivity). The polarity score is a float within the range [-1.0, 1.0]. The subjectivity is a float within the range [0.0, 1.0] where 0.0 is very objective and 1.0 is very subjective\n",
    "\n",
    "\n",
    "En este ejemplo generamos varios \"tweets\" ficticios sobre un político \"Alex Johnson\" y analizamos el sentimiento."
   ]
  },
  {
   "cell_type": "code",
   "execution_count": null,
   "id": "82432b92",
   "metadata": {},
   "outputs": [],
   "source": [
    "tweets = [\n",
    "    \"I think Alex Johnson is doing a fantastic job leading the country.\",\n",
    "    \"Alex Johnson's policies are ruining our economy.\",\n",
    "    \"I'm not sure about Alex Johnson's latest speech, it was confusing.\",\n",
    "    \"The new reforms introduced by Alex Johnson are very promising.\",\n",
    "    \"Alex Johnson seems to care about the people's issues, which is refreshing.\",\n",
    "    \"I am disappointed with Alex Johnson's performance.\",\n",
    "    \"Alex Johnson's leadership style is quite effective.\",\n",
    "    \"The way Alex Johnson handled the recent crisis was commendable.\",\n",
    "    \"I don't trust Alex Johnson's intentions at all.\",\n",
    "    \"Alex Johnson has brought positive changes to the healthcare system.\"\n",
    "]\n",
    "\n",
    "# Create a DataFrame\n",
    "tweets_df = pd.DataFrame(tweets, columns=['Tweet'])"
   ]
  },
  {
   "cell_type": "markdown",
   "id": "4a64915a",
   "metadata": {},
   "source": [
    "Creamos una función para analizar el sentimiento"
   ]
  },
  {
   "cell_type": "code",
   "execution_count": null,
   "id": "a91a0692",
   "metadata": {},
   "outputs": [],
   "source": [
    "def analyze_sentiment(tweet):\n",
    "    analysis = TextBlob(tweet)\n",
    "    # Classify polarity as positive, negative, or neutral\n",
    "    if analysis.sentiment.polarity > 0:\n",
    "        return analysis.sentiment.polarity,'Positive'\n",
    "    elif analysis.sentiment.polarity < 0:\n",
    "        return analysis.sentiment.polarity,'Negative'\n",
    "    else:\n",
    "        return analysis.sentiment.polarity,'Neutral'"
   ]
  },
  {
   "cell_type": "markdown",
   "id": "4d5bc4b3",
   "metadata": {},
   "source": [
    "Aplicamos el analisis de sentimiento. Es una forma sencilla de hacerlo."
   ]
  },
  {
   "cell_type": "code",
   "execution_count": null,
   "id": "f172eddd",
   "metadata": {},
   "outputs": [],
   "source": [
    "# Apply sentiment analysis\n",
    "tweets_df['Polarity','Sentiment'] = tweets_df['Tweet'].apply(analyze_sentiment)\n",
    "\n",
    "tweets_df.head()"
   ]
  },
  {
   "cell_type": "markdown",
   "id": "a5c5647c",
   "metadata": {},
   "source": [
    "# Ejemplo usando Modelos de Lenguaje\n",
    "\n",
    "En este segundo ejemplo vamos a utilizar el model de lenguaje \"roBERTuito\" obtenido de Huggingface: [\n",
    "pysentimiento/robertuito-sentiment-analysis](https://huggingface.co/pysentimiento/robertuito-sentiment-analysis)\n",
    "\n",
    "La descripción del modelo puede verse en el siguiente enlace: [RoBERTuito: a pre-trained language model for social media text in Spanish](https://aclanthology.org/2022.lrec-1.785/)\n",
    "\n",
    "En este caso es un modelo de lenguaje entrenado en español para analisis de sentimiento en Tweets.\n",
    "\n",
    "Primero, simulamos los tweets:"
   ]
  },
  {
   "cell_type": "code",
   "execution_count": null,
   "id": "758a8969",
   "metadata": {},
   "outputs": [],
   "source": [
    "tweets = [\n",
    "    \"Creo que Alex Johnson está haciendo un trabajo fantástico liderando el país.\",\n",
    "    \"Las políticas de Alex Johnson están arruinando nuestra economía.\",\n",
    "    \"No estoy seguro sobre el último discurso de Alex Johnson, fue confuso.\",\n",
    "    \"Las nuevas reformas introducidas por Alex Johnson son muy prometedoras.\",\n",
    "    \"Alex Johnson parece preocuparse por los problemas de la gente, lo cual es refrescante.\",\n",
    "    \"Estoy decepcionado con el desempeño de Alex Johnson.\",\n",
    "    \"El estilo de liderazgo de Alex Johnson es bastante efectivo.\",\n",
    "    \"La forma en que Alex Johnson manejó la reciente crisis fue encomiable.\",\n",
    "    \"No confío en las intenciones de Alex Johnson en absoluto.\",\n",
    "    \"Alex Johnson ha traído cambios positivos al sistema de salud.\"\n",
    "]\n",
    "\n",
    "# Crear un DataFrame\n",
    "tweets_df = pd.DataFrame(tweets, columns=['Tweet'])"
   ]
  },
  {
   "cell_type": "markdown",
   "id": "dc0db1c8",
   "metadata": {},
   "source": [
    "El siguiente paso es cargar el modelo:"
   ]
  },
  {
   "cell_type": "code",
   "execution_count": null,
   "id": "4ca2343a",
   "metadata": {},
   "outputs": [],
   "source": [
    "mps_device = \"mps\"\n",
    "\n",
    "sentiment_analysis = pipeline(\"sentiment-analysis\", model=\"pysentimiento/robertuito-sentiment-analysis\", device = mps_device)\n",
    "\n"
   ]
  },
  {
   "cell_type": "markdown",
   "id": "d0b9467b",
   "metadata": {},
   "source": [
    "Aplicamos el analisis de sentimiento:"
   ]
  },
  {
   "cell_type": "code",
   "execution_count": null,
   "id": "66f06de5",
   "metadata": {},
   "outputs": [],
   "source": [
    "# Función para analizar el sentimiento\n",
    "def analyze_sentiment(tweet):\n",
    "    result = sentiment_analysis(tweet)[0]\n",
    "    return result['label'], result['score']\n",
    "\n",
    "# Aplicar el análisis de sentimiento\n",
    "tweets_df[['Sentiment', 'Score']] = tweets_df['Tweet'].apply(lambda x: pd.Series(analyze_sentiment(x)))"
   ]
  },
  {
   "cell_type": "markdown",
   "id": "76dfb47c",
   "metadata": {},
   "source": [
    "Mostramos los resultados"
   ]
  },
  {
   "cell_type": "code",
   "execution_count": null,
   "id": "a372bd00",
   "metadata": {},
   "outputs": [],
   "source": [
    "tweets_df"
   ]
  }
 ],
 "metadata": {
  "kernelspec": {
   "display_name": "Python (text_examples)",
   "language": "python",
   "name": "text_examples_venv"
  },
  "language_info": {
   "codemirror_mode": {
    "name": "ipython",
    "version": 3
   },
   "file_extension": ".py",
   "mimetype": "text/x-python",
   "name": "python",
   "nbconvert_exporter": "python",
   "pygments_lexer": "ipython3",
   "version": "3.11.9"
  }
 },
 "nbformat": 4,
 "nbformat_minor": 5
}
