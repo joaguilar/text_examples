{
 "cells": [
  {
   "cell_type": "code",
   "execution_count": null,
   "id": "9680a5ba",
   "metadata": {},
   "outputs": [],
   "source": [
    "import pandas as pd\n",
    "import nltk\n",
    "from nltk.corpus import stopwords\n",
    "from sklearn.feature_extraction.text import CountVectorizer\n",
    "from sklearn.decomposition import LatentDirichletAllocation\n",
    "\n"
   ]
  },
  {
   "cell_type": "markdown",
   "id": "e707c34b",
   "metadata": {},
   "source": [
    "Creacion del conjunto de datos.\n",
    "\n",
    "Aqui vienen dos opciones:\n",
    "\n",
    "1. Utilizar los \"posts\" simulados de un foro de videojuegos\n",
    "2. Crear un archivo de texto llamado \"textos.csv\" con una columna \"text\" Esta columna se usaria como conjunto de datos."
   ]
  },
  {
   "cell_type": "code",
   "execution_count": null,
   "id": "8e1d9032",
   "metadata": {},
   "outputs": [],
   "source": [
    "data = {\n",
    "#     \"post\": [\n",
    "#         \"I love the new graphics on the latest game update\",\n",
    "#         \"Has anyone experienced glitches with the new game patch?\",\n",
    "#         \"What are your thoughts on the storyline of The Last Adventure?\",\n",
    "#         \"The multiplayer mode is so competitive and exciting\",\n",
    "#         \"I'm stuck on level 42, can anyone guide me?\",\n",
    "#         \"The graphics are breathtaking in the new VR game\",\n",
    "#         \"Experiencing lag in the online multiplayer sessions, any fixes?\",\n",
    "#         \"The campaign mode of Warriors Quest is incredibly detailed\",\n",
    "#         \"Anyone else excited about the upcoming expansion pack?\",\n",
    "#         \"I miss the simplicity of older games, everything is so complex now\"\n",
    "#     ]\n",
    "# }\n",
    "        \"post\": [\n",
    "        \"¿Alguien más encuentra el jefe de la zona de Limgrave extremadamente difícil?\",\n",
    "        \"Me encanta cómo Elden Ring integra la exploración en su vasto mundo. ¡No puedo dejar de explorar cada rincón!\",\n",
    "        \"¿Cuál es la mejor estrategia para derrotar al dragón en el Monte Gelmir?\",\n",
    "        \"Estoy teniendo problemas con el frame rate en PS5, ¿alguien sabe cómo solucionarlo?\",\n",
    "        \"Acabo de obtener la espada de la noche y la llama, y es absolutamente devastadora.\",\n",
    "        \"¿Alguien tiene consejos sobre cómo manejar las invasiones PvP? Siempre me encuentran desprevenido.\",\n",
    "        \"Creo que encontré un bug que permite duplicar objetos, ¿debería reportarlo o aprovecharlo?\",\n",
    "        \"¿Qué build recomiendan para un personaje enfocado en magia?\",\n",
    "        \"El diseño de los enemigos es impresionante, especialmente los demiurgos menores.\",\n",
    "        \"Estoy atascado en el Castillo Stormveil, ¿algún consejo para avanzar?\",\n",
    "        \"La música en las áreas de la capital es increíble, realmente añade mucha atmósfera.\",\n",
    "        \"¿Cuál es su arma favorita hasta ahora y por qué?\",\n",
    "        \"He leído que jugar cooperativo hace que los jefes sean más fáciles, ¿alguien quiere unirse a mi juego?\",\n",
    "        \"¿Cuántas horas les ha tomado llegar al final? Creo que voy muy lento.\",\n",
    "        \"¿Alguien más siente que las mazmorras son algo repetitivas después de un tiempo?\",\n",
    "        \"¡Finalmente derroté al jefe final después de 50 intentos! ¿Qué hago ahora?\",\n",
    "        \"Me encantaría ver una expansión que explore más sobre la historia de los shardbearers.\"\n",
    "    ]\n",
    "}\n",
    "\n",
    "#Descomentar alguna de las siguientes dos lineas para el ejemplo\n",
    "df_posts = pd.DataFrame(data)\n",
    "#df_posts = pd.read_csv('textos.csv', usecols=['text'])\n",
    "\n",
    "df_posts.columns = ['post']\n"
   ]
  },
  {
   "cell_type": "code",
   "execution_count": null,
   "id": "070b47d0",
   "metadata": {},
   "outputs": [],
   "source": [
    "df_posts.head()"
   ]
  },
  {
   "cell_type": "code",
   "execution_count": null,
   "id": "92e606f6",
   "metadata": {},
   "outputs": [],
   "source": [
    "df_posts.count()\n",
    "df_posts=df_posts[:500]\n",
    "df_posts.count()"
   ]
  },
  {
   "cell_type": "code",
   "execution_count": null,
   "id": "c2fdd999",
   "metadata": {
    "scrolled": true
   },
   "outputs": [],
   "source": [
    "\n",
    "\n",
    "# Descargar recursos necesarios de NLTK\n",
    "nltk.download('stopwords')\n",
    "nltk.download('punkt')\n",
    "\n",
    "# Función para tokenizar y remover puntuación y stopwords\n",
    "def preprocess_text(text):\n",
    "    # Convertir a minúsculas\n",
    "    text = text.lower()\n",
    "    # Tokenizar\n",
    "    tokens = nltk.word_tokenize(text)\n",
    "    # Remover stopwords\n",
    "    tokens = [word for word in tokens if word not in stopwords.words('spanish') and word.isalnum()]\n",
    "    return ' '.join(tokens)\n",
    "\n",
    "# Aplicar el preprocesamiento a las publicaciones\n",
    "df_posts['processed'] = df_posts['post'].apply(preprocess_text)\n"
   ]
  },
  {
   "cell_type": "markdown",
   "id": "9308c597",
   "metadata": {},
   "source": [
    "#¿Qué son los temas que extrae LDA?\n",
    "\n",
    "Los \"temas\" en LDA no son temas predefinidos o etiquetados como en una clasificación manual. Son simplemente agrupaciones de palabras que frecuentemente aparecen juntas en los documentos del conjunto de datos. Un \"tema\" podría consistir en palabras como `{reina, torre, peón, jaque mate}` que podríamos interpretar como relacionadas al ajedrez, pero el modelo solo ve este tema como un grupo de palabras que tienden a co-ocurrir.\n",
    "\n",
    "Cada tema es una distribución de probabilidades sobre todas las palabras en el corpus, lo que significa que cada palabra tiene una probabilidad de pertenecer a un tema (o agrupamiento) específico."
   ]
  },
  {
   "cell_type": "code",
   "execution_count": null,
   "id": "1ade88b0",
   "metadata": {},
   "outputs": [],
   "source": [
    "%%time\n",
    "# Vectorizar el texto preprocesado\n",
    "vectorizer = CountVectorizer()\n",
    "data_vectorized = vectorizer.fit_transform(df_posts['processed'])\n",
    "\n",
    "# Ajustar el modelo LDA\n",
    "lda_model = LatentDirichletAllocation(n_components=5, random_state=42)\n",
    "lda_model.fit(data_vectorized)\n",
    "\n",
    "# Mostrar los temas\n",
    "def display_topics(model, feature_names, no_top_words):\n",
    "    for topic_idx, topic in enumerate(model.components_):\n",
    "        print(\"Tema %d:\" % (topic_idx+1))\n",
    "        print(\" \".join([feature_names[i] for i in topic.argsort()[:-no_top_words - 1:-1]]))\n",
    "\n",
    "# Imprimir los temas\n",
    "display_topics(lda_model, vectorizer.get_feature_names_out(), 5)\n"
   ]
  },
  {
   "cell_type": "code",
   "execution_count": null,
   "id": "da412156",
   "metadata": {},
   "outputs": [],
   "source": []
  }
 ],
 "metadata": {
  "kernelspec": {
   "display_name": "Python (text_examples)",
   "language": "python",
   "name": "text_examples_venv"
  },
  "language_info": {
   "codemirror_mode": {
    "name": "ipython",
    "version": 3
   },
   "file_extension": ".py",
   "mimetype": "text/x-python",
   "name": "python",
   "nbconvert_exporter": "python",
   "pygments_lexer": "ipython3",
   "version": "3.9.17"
  }
 },
 "nbformat": 4,
 "nbformat_minor": 5
}
