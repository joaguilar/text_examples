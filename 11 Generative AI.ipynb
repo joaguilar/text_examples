{
 "cells": [
  {
   "cell_type": "code",
   "execution_count": null,
   "id": "11520d4b",
   "metadata": {},
   "outputs": [],
   "source": [
    "# Importar las bibliotecas necesarias\n",
    "import openai\n",
    "\n",
    "import numpy as np\n",
    "from sklearn.metrics.pairwise import cosine_similarity\n",
    "import os\n",
    "from dotenv import load_dotenv\n",
    "\n",
    "load_dotenv()\n",
    "\n",
    "# Configurar la clave de API de OpenAI\n",
    "openai.api_key = os.getenv(\"OPENAI_API_KEY\")\n",
    "\n"
   ]
  },
  {
   "cell_type": "markdown",
   "id": "e0188059",
   "metadata": {},
   "source": [
    "# Retrieval Augmented Generation (RAG) con OpenAI\n",
    "\n",
    "Retrieval Augmented Generation (RAG) es una técnica que combina la recuperación de información con la generación de texto para mejorar la calidad y relevancia de las respuestas generadas por modelos de lenguaje. En lugar de confiar únicamente en el modelo generativo para crear respuestas, RAG busca información relevante en una base de datos o repositorio de documentos para proporcionar contexto adicional al modelo.\n",
    "\n",
    "Para simular un sistema de RAG, utilizamos un conjunto de 10 documentos generados."
   ]
  },
  {
   "cell_type": "code",
   "execution_count": null,
   "id": "f5ef1305",
   "metadata": {},
   "outputs": [],
   "source": [
    "data_repository = [\n",
    "    {\n",
    "        \"title\": \"IA en la Salud\",\n",
    "        \"content\": \"La inteligencia artificial está transformando el sector de la salud al mejorar los diagnósticos, personalizar tratamientos y predecir resultados de los pacientes. Las herramientas de IA permiten a los médicos identificar patrones en grandes volúmenes de datos clínicos que serían difíciles de detectar manualmente.\"\n",
    "    },\n",
    "    {\n",
    "        \"title\": \"Impacto del Cambio Climático\",\n",
    "        \"content\": \"El cambio climático está provocando el aumento del nivel del mar, incrementando la frecuencia de eventos climáticos extremos y afectando la biodiversidad global. Estas alteraciones están forzando a las comunidades a adaptarse y modificar sus prácticas agrícolas y de uso del suelo.\"\n",
    "    },\n",
    "    {\n",
    "        \"title\": \"Avances en Robótica\",\n",
    "        \"content\": \"Los avances en robótica están habilitando la automatización en diversas industrias, mejorando la precisión en cirugías y aumentando la eficiencia en la fabricación. Los robots colaborativos están trabajando junto a los humanos en tareas complejas y repetitivas, reduciendo el margen de error.\"\n",
    "    },\n",
    "    {\n",
    "        \"title\": \"Computación Cuántica\",\n",
    "        \"content\": \"La computación cuántica promete resolver problemas complejos más rápido que las computadoras tradicionales al utilizar principios de la mecánica cuántica. Esto podría revolucionar campos como la criptografía, la simulación de moléculas y la optimización de procesos industriales.\"\n",
    "    },\n",
    "    {\n",
    "        \"title\": \"Energías Renovables\",\n",
    "        \"content\": \"El auge de las energías renovables está transformando el panorama energético global, impulsado por la necesidad de reducir las emisiones de carbono. La energía solar y eólica son líderes en esta transformación, con avances tecnológicos que están reduciendo costos y aumentando la eficiencia.\"\n",
    "    },\n",
    "    {\n",
    "        \"title\": \"Educación en la Era Digital\",\n",
    "        \"content\": \"La educación está experimentando una revolución digital, con plataformas de aprendizaje en línea que ofrecen cursos accesibles a nivel mundial. La tecnología permite experiencias de aprendizaje personalizadas y accesibles, superando barreras geográficas y económicas.\"\n",
    "    },\n",
    "    {\n",
    "        \"title\": \"Tecnologías de la Información\",\n",
    "        \"content\": \"La innovación en tecnologías de la información está impulsando cambios en la forma en que las empresas operan y se comunican. La computación en la nube, el big data y el internet de las cosas son pilares de la transformación digital, permitiendo una conectividad y análisis de datos sin precedentes.\"\n",
    "    },\n",
    "    {\n",
    "        \"title\": \"Biotecnología Moderna\",\n",
    "        \"content\": \"La biotecnología moderna está permitiendo el desarrollo de terapias innovadoras, como la edición genética y las terapias basadas en células madre. Estas tecnologías están abriendo nuevas oportunidades para tratar enfermedades que anteriormente se consideraban incurables.\"\n",
    "    },\n",
    "    {\n",
    "        \"title\": \"Transporte Sostenible\",\n",
    "        \"content\": \"El transporte sostenible está ganando impulso a medida que se busca reducir el impacto ambiental del transporte tradicional. Los vehículos eléctricos y la infraestructura de carga están evolucionando rápidamente, junto con nuevas formas de movilidad urbana como el carsharing y el ciclismo.\"\n",
    "    },\n",
    "    {\n",
    "        \"title\": \"Ciberseguridad\",\n",
    "        \"content\": \"La ciberseguridad es una preocupación creciente a medida que las amenazas digitales se vuelven más sofisticadas. Las empresas están invirtiendo en tecnologías avanzadas de protección de datos y en la formación de sus empleados para mitigar riesgos y proteger la información crítica.\"\n",
    "    },\n",
    "]\n",
    "\n",
    "\n",
    "\n",
    "\n",
    "\n",
    "\n",
    "\n"
   ]
  },
  {
   "cell_type": "markdown",
   "id": "f83c12e2",
   "metadata": {},
   "source": [
    "Posteriormente tenemos un par de funciones para obtener los embeddings utilizando los modelos de OpenAI"
   ]
  },
  {
   "cell_type": "code",
   "execution_count": null,
   "id": "cf067139",
   "metadata": {},
   "outputs": [],
   "source": [
    "def get_embedding(text, model=\"text-embedding-ada-002\"):\n",
    "   text = text.replace(\"\\n\", \" \")\n",
    "   return openai.embeddings.create(input = [text], model=model).data[0].embedding\n",
    "                                   \n",
    "def obtener_embeddings(textos):\n",
    "    embeddings = [get_embedding(texto) for texto in textos]\n",
    "    return embeddings\n"
   ]
  },
  {
   "cell_type": "markdown",
   "id": "a0329483",
   "metadata": {},
   "source": [
    "Llamamos las funciones para crear embeddings para el contenido en el repositorio de datos"
   ]
  },
  {
   "cell_type": "code",
   "execution_count": null,
   "id": "29aabcd3",
   "metadata": {},
   "outputs": [],
   "source": [
    "textos = [elemento[\"content\"] for elemento in data_repository]\n",
    "embeddings = obtener_embeddings(textos)\n",
    "\n",
    "print(embeddings[2])\n"
   ]
  },
  {
   "cell_type": "markdown",
   "id": "58b82be1",
   "metadata": {},
   "source": [
    "Búsqueda semántica - Función para recuperar el documento relevante utilizando cosine similarity"
   ]
  },
  {
   "cell_type": "code",
   "execution_count": null,
   "id": "8dc1ff16",
   "metadata": {},
   "outputs": [],
   "source": [
    "def recuperar_documento_relevante(consulta, embeddings, data_repository):\n",
    "    embedding_consulta = obtener_embeddings([consulta])[0]\n",
    "    similitudes = cosine_similarity([embedding_consulta], embeddings)[0]\n",
    "    indice_mejor_match = np.argmax(similitudes)\n",
    "    return data_repository[indice_mejor_match]"
   ]
  },
  {
   "cell_type": "markdown",
   "id": "658fe862",
   "metadata": {},
   "source": [
    "Y una función para generar una respuesta usando RAG"
   ]
  },
  {
   "cell_type": "code",
   "execution_count": null,
   "id": "ec3ad1a4",
   "metadata": {},
   "outputs": [],
   "source": [
    "def generar_respuesta(consulta):\n",
    "    # Recuperar documento relevante\n",
    "    documento_relevante = recuperar_documento_relevante(consulta, embeddings, data_repository)\n",
    "    contexto = documento_relevante[\"content\"]\n",
    "\n",
    "    # Usar OpenAI para generar una respuesta basada en el contexto y la consulta\n",
    "    prompt = f\"Contexto: {contexto}\\n\\n\"+\\\n",
    "                f\"Para la siguiente Consulta: {consulta}\\n\\n\"+\\\n",
    "                \"Genera una respuesta basada en el Contexto y solamente en el contexto, no uses la \"+\\\n",
    "                \"información que conoces solamente usa la información provista\"\n",
    "    print(f\"PROMPT=\\n=======\\n{prompt}\\n=======\\n\")\n",
    "    respuesta = openai.chat.completions.create(\n",
    "      model=\"gpt-4o\",\n",
    "      messages=[\n",
    "        {\"role\": \"system\", \"content\": \"You are a helpful assistant.\"},\n",
    "        {\"role\": \"user\", \"content\": f\"{prompt}\"}\n",
    "      ]\n",
    "    )\n",
    "\n",
    "    return respuesta.choices[0].message.content.strip()"
   ]
  },
  {
   "cell_type": "markdown",
   "id": "72ff408f",
   "metadata": {},
   "source": [
    "Y ahora lo probamos"
   ]
  },
  {
   "cell_type": "code",
   "execution_count": null,
   "id": "770a3705",
   "metadata": {},
   "outputs": [],
   "source": [
    "# Consulta de ejemplo\n",
    "consulta = \"¿Cuáles son los impactos de la inteligencia artificial en la industria de la salud?\"\n",
    "\n",
    "# Generar respuesta usando RAG\n",
    "respuesta = generar_respuesta(consulta)\n",
    "print(\"Respuesta:\", respuesta)"
   ]
  }
 ],
 "metadata": {
  "kernelspec": {
   "display_name": "Python (text_examples)",
   "language": "python",
   "name": "text_examples_venv"
  },
  "language_info": {
   "codemirror_mode": {
    "name": "ipython",
    "version": 3
   },
   "file_extension": ".py",
   "mimetype": "text/x-python",
   "name": "python",
   "nbconvert_exporter": "python",
   "pygments_lexer": "ipython3",
   "version": "3.11.9"
  }
 },
 "nbformat": 4,
 "nbformat_minor": 5
}
